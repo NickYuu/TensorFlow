{
 "cells": [
  {
   "cell_type": "markdown",
   "metadata": {},
   "source": [
    "# y= relu ( (X․W ) + b )"
   ]
  },
  {
   "cell_type": "code",
   "execution_count": 6,
   "metadata": {},
   "outputs": [
    {
     "name": "stdout",
     "output_type": "stream",
     "text": [
      "XWb:\n[[-0.36000004  0.28      ]]\ny:\n[[ 0.    0.28]]\n"
     ]
    }
   ],
   "source": [
    "import tensorflow as tf\n",
    "\n",
    "X = tf.Variable([[0.4, 0.2, 0.4]])\n",
    "\n",
    "W = tf.Variable([[-0.5, -0.2],\n",
    "                 [-0.3, 0.4],\n",
    "                 [-0.5, 0.2]])\n",
    "\n",
    "b = tf.Variable([[0.1, 0.2]])\n",
    "\n",
    "XWb = tf.matmul(X, W) + b\n",
    "\n",
    "y = tf.nn.relu(tf.matmul(X, W) + b)\n",
    "\n",
    "with tf.Session() as sess:\n",
    "    init = tf.global_variables_initializer()\n",
    "    sess.run(init)\n",
    "    print('XWb:')\n",
    "    print(sess.run(XWb))\n",
    "    print('y:')\n",
    "    print(sess.run(y))"
   ]
  },
  {
   "cell_type": "markdown",
   "metadata": {},
   "source": [
    "# y= sigmoid ( (X․W ) + b )"
   ]
  },
  {
   "cell_type": "code",
   "execution_count": 4,
   "metadata": {},
   "outputs": [
    {
     "name": "stdout",
     "output_type": "stream",
     "text": [
      "XWb:\n"
     ]
    },
    {
     "name": "stdout",
     "output_type": "stream",
     "text": [
      "[[-1.79999995  2.5999999 ]]\ny:\n[[ 0.14185107  0.93086159]]\n"
     ]
    }
   ],
   "source": [
    "import tensorflow as tf\n",
    "\n",
    "X = tf.Variable([[2.0, 1, 3]])\n",
    "W = tf.Variable([[-0.5, -0.2],\n",
    "                 [-0.3, 0.4],\n",
    "                 [-0.5, 0.2]])\n",
    "b = tf.Variable([1.0, 2])\n",
    "XWb = tf.matmul(X, W) + b\n",
    "\n",
    "y = tf.nn.sigmoid(tf.matmul(X, W) + b)\n",
    "\n",
    "with tf.Session() as sess:\n",
    "    init = tf.global_variables_initializer()\n",
    "    sess.run(init)\n",
    "    print('XWb:')\n",
    "    print(sess.run(XWb))\n",
    "    print('y:')\n",
    "    print(sess.run(y))"
   ]
  },
  {
   "cell_type": "markdown",
   "metadata": {},
   "source": [
    "# 以亂數產生Weight(W)與bais(b) "
   ]
  },
  {
   "cell_type": "code",
   "execution_count": 7,
   "metadata": {},
   "outputs": [
    {
     "name": "stdout",
     "output_type": "stream",
     "text": [
      "b:\n[[ 0.13692647  1.41081786]]\nW:\n[[ 0.54910606  1.31788528]\n [-2.98850489 -0.42417884]\n [-0.70707983 -0.02972651]]\ny:\n[[ 0.          1.84124565]]\n"
     ]
    }
   ],
   "source": [
    "W = tf.Variable(tf.random_normal([3, 2]))\n",
    "b = tf.Variable(tf.random_normal([1, 2]))\n",
    "X = tf.Variable([[0.4, 0.2, 0.4]])\n",
    "y = tf.nn.relu(tf.matmul(X, W) + b)\n",
    "with tf.Session() as sess:\n",
    "    init = tf.global_variables_initializer()\n",
    "    sess.run(init)\n",
    "    print('b:')\n",
    "    print(sess.run(b))\n",
    "    print('W:')\n",
    "    print(sess.run(W))\n",
    "    print('y:')\n",
    "    print(sess.run(y))"
   ]
  },
  {
   "cell_type": "code",
   "execution_count": 1,
   "metadata": {},
   "outputs": [
    {
     "name": "stdout",
     "output_type": "stream",
     "text": [
      "[-0.23656665 -0.75966907]\n"
     ]
    },
    {
     "data": {
      "image/png": "[encoded data removed]",
      "text/plain": [
       "<matplotlib.figure.Figure at 0x21da0e31240>"
      ]
     },
     "metadata": {},
     "output_type": "display_data"
    }
   ],
   "source": [
    "import tensorflow as tf\n",
    "import matplotlib.pyplot as plt\n",
    "\n",
    "with tf.Session() as sess:\n",
    "    data = tf.random_normal([1000]).eval()\n",
    "print(data[:2])\n",
    "\n",
    "plt.hist(data)\n",
    "plt.show()"
   ]
  },
  {
   "cell_type": "markdown",
   "metadata": {},
   "source": [
    "# placeholder"
   ]
  },
  {
   "cell_type": "code",
   "execution_count": 3,
   "metadata": {},
   "outputs": [
    {
     "name": "stdout",
     "output_type": "stream",
     "text": [
      "b : \n[[ 0.39942372 -1.76145756]]\nW : \n[[ 1.67420912  0.04150477]\n [ 1.56263268  2.06695151]\n [-0.72445256 -0.91310525]]\nX : \n[[ 0.1         0.2         0.30000001]\n [ 0.2         0.30000001  0.40000001]]\ny : \n[[ 0.66203541  0.        ]\n [ 0.91327435  0.        ]]\n"
     ]
    }
   ],
   "source": [
    "import tensorflow as tf\n",
    "import numpy as np\n",
    "\n",
    "W = tf.Variable(tf.random_normal([3, 2]))\n",
    "b = tf.Variable(tf.random_normal([1, 2]))\n",
    "X = tf.placeholder('float', [None, 3])\n",
    "y = tf.nn.relu(tf.matmul(X, W) + b)\n",
    "\n",
    "with tf.Session() as sess:\n",
    "    init = tf.global_variables_initializer()\n",
    "    sess.run(init)\n",
    "    X_array = np.array([[0.1, 0.2, 0.3],\n",
    "                        [0.2, 0.3, 0.4]])\n",
    "    (_b, _W, _X, _y) = sess.run((b, W, X, y), feed_dict={X: X_array})\n",
    "    print('b : ')\n",
    "    print(_b)\n",
    "    print('W : ')\n",
    "    print(_W)\n",
    "    print('X : ')\n",
    "    print(_X)\n",
    "    print('y : ')\n",
    "    print(_y)"
   ]
  },
  {
   "cell_type": "markdown",
   "metadata": {},
   "source": [
    "# 建立Layer函數模擬神經網路"
   ]
  },
  {
   "cell_type": "code",
   "execution_count": 4,
   "metadata": {},
   "outputs": [],
   "source": [
    "import tensorflow as tf\n",
    "\n",
    "def layer(output_dim, input_dim, inputs, activation=None):\n",
    "    W = tf.Variable(tf.random_normal([input_dim, output_dim]))\n",
    "    b = tf.Variable(tf.random_normal([1, output_dim]))\n",
    "    XWb = tf.matmul(inputs, W) + b\n",
    "    if activation is None:\n",
    "        outputs = XWb\n",
    "    else:\n",
    "        outputs = activation(XWb)\n",
    "    return outputs"
   ]
  },
  {
   "cell_type": "markdown",
   "metadata": {},
   "source": [
    "# 使用Layer函數建立三層類神經網路"
   ]
  },
  {
   "cell_type": "code",
   "execution_count": 5,
   "metadata": {},
   "outputs": [
    {
     "name": "stdout",
     "output_type": "stream",
     "text": [
      "input layer X\n[[ 0.40000001  0.2         0.30000001  0.1       ]\n [ 0.1         0.2         0.30000001  0.40000001]]\ninput layer h\n[[ 0.          1.47170472  0.        ]\n [ 0.          0.64114058  0.        ]]\ninput layer y\n[[-1.21138895  1.75492954]\n [ 0.0164324   0.89288759]]\n"
     ]
    }
   ],
   "source": [
    "X = tf.placeholder('float', [None, 4])\n",
    "h = layer(output_dim=3, input_dim=4, inputs=X, activation=tf.nn.relu)\n",
    "y = layer(output_dim=2, input_dim=3, inputs=h)\n",
    "with tf.Session() as sess:\n",
    "    init = tf.global_variables_initializer()\n",
    "    sess.run(init)\n",
    "    X_array = np.array([[0.4, 0.2, 0.3, 0.1],\n",
    "                        [0.1, 0.2, 0.3, 0.4]])\n",
    "    (layer_X, layer_h, layer_y) = sess.run((X, h, y), feed_dict={X: X_array})\n",
    "    print('input layer X')\n",
    "    print(layer_X)\n",
    "    print('input layer h')\n",
    "    print(layer_h)\n",
    "    print('input layer y')\n",
    "    print(layer_y)"
   ]
  },
  {
   "cell_type": "code",
   "execution_count": null,
   "metadata": {},
   "outputs": [],
   "source": [
    ""
   ]
  }
 ],
 "metadata": {
  "kernelspec": {
   "display_name": "Python 2",
   "language": "python",
   "name": "python2"
  },
  "language_info": {
   "codemirror_mode": {
    "name": "ipython",
    "version": 2.0
   },
   "file_extension": ".py",
   "mimetype": "text/x-python",
   "name": "python",
   "nbconvert_exporter": "python",
   "pygments_lexer": "ipython2",
   "version": "2.7.6"
  }
 },
 "nbformat": 4,
 "nbformat_minor": 0
}
